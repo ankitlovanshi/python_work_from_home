{
 "cells": [
  {
   "cell_type": "code",
   "execution_count": 10,
   "id": "96ab7585-72f6-40d0-8183-d2813413f4ac",
   "metadata": {},
   "outputs": [
    {
     "name": "stdout",
     "output_type": "stream",
     "text": [
      "4\n"
     ]
    }
   ],
   "source": [
    "def square(x):\n",
    "    return x ** 2\n",
    "\n",
    "result = square(2)\n",
    "print(result)"
   ]
  },
  {
   "cell_type": "code",
   "execution_count": 4,
   "id": "9f455170-2374-4d3e-88ed-bafb632b42da",
   "metadata": {},
   "outputs": [
    {
     "name": "stdout",
     "output_type": "stream",
     "text": [
      "<function <lambda> at 0x7f717030c0d0>\n"
     ]
    }
   ],
   "source": [
    "greet = lambda : print(\"Hello World\")\n",
    "print(greet)"
   ]
  },
  {
   "cell_type": "code",
   "execution_count": 6,
   "id": "8f057435-1aae-496e-957e-b63994eb25fa",
   "metadata": {},
   "outputs": [
    {
     "name": "stdout",
     "output_type": "stream",
     "text": [
      "<function <lambda> at 0x7fca54ab8b80>\n"
     ]
    }
   ],
   "source": [
    "# lambda function\n",
    "result = lambda x : x ** 2\n",
    "print(result)"
   ]
  },
  {
   "cell_type": "code",
   "execution_count": 7,
   "id": "569301e1-1ce4-4db2-b843-fdb54de21563",
   "metadata": {},
   "outputs": [
    {
     "name": "stdout",
     "output_type": "stream",
     "text": [
      "4\n"
     ]
    }
   ],
   "source": [
    "# lambda function with passing value\n",
    "result = lambda x : x ** 2\n",
    "print(result(2))"
   ]
  },
  {
   "cell_type": "code",
   "execution_count": 9,
   "id": "78f10b69-d767-4cad-9543-edb960492ea8",
   "metadata": {},
   "outputs": [
    {
     "name": "stdout",
     "output_type": "stream",
     "text": [
      "20\n"
     ]
    }
   ],
   "source": [
    "# lambda function with passing multiple values\n",
    "result = lambda x, y : x * y\n",
    "print(result(2, 10))"
   ]
  },
  {
   "cell_type": "code",
   "execution_count": 12,
   "id": "21f974c8-40dd-4d0c-b6b9-ff44c15585c8",
   "metadata": {},
   "outputs": [
    {
     "name": "stdout",
     "output_type": "stream",
     "text": [
      "[1, 4, 9, 16, 25]\n"
     ]
    }
   ],
   "source": [
    "# map function\n",
    "nums = [1, 2, 3, 4, 5]\n",
    "def square(x):\n",
    "    return x ** 2\n",
    "\n",
    "result = map(square, nums)\n",
    "print(list(result))"
   ]
  },
  {
   "cell_type": "code",
   "execution_count": 13,
   "id": "441bef45-cafc-4dab-ac3c-65087ab7ab52",
   "metadata": {},
   "outputs": [
    {
     "name": "stdout",
     "output_type": "stream",
     "text": [
      "[1, 4, 9, 16, 25]\n"
     ]
    }
   ],
   "source": [
    "# map function with lambda function\n",
    "nums = [1, 2, 3, 4, 5]\n",
    "\n",
    "result = map(lambda x : x ** 2, nums)\n",
    "print(list(result))"
   ]
  },
  {
   "cell_type": "code",
   "execution_count": 14,
   "id": "5044c8e7-1834-4c23-bd2a-ea9638d91a71",
   "metadata": {},
   "outputs": [
    {
     "name": "stdout",
     "output_type": "stream",
     "text": [
      "[2, 4]\n"
     ]
    }
   ],
   "source": [
    "# filter function (it basically filter the iterable object)\n",
    "nums = [1, 2, 3, 4, 5]\n",
    "def square(x):\n",
    "    if x%2 == 0:\n",
    "        return x\n",
    "\n",
    "result = filter(square, nums)\n",
    "print(list(result))"
   ]
  },
  {
   "cell_type": "code",
   "execution_count": 14,
   "id": "6dcc5922-dcb7-429e-b101-3ebad4762e2d",
   "metadata": {},
   "outputs": [
    {
     "name": "stdout",
     "output_type": "stream",
     "text": [
      "[2, 4]\n"
     ]
    }
   ],
   "source": [
    "# filter function (it basically filter the iterable object)\n",
    "nums = [1, 2, 3, 4, 5]\n",
    "def square(x):\n",
    "    if x%2 == 0:\n",
    "        return x\n",
    "\n",
    "result = filter(lambda x: if , nums)\n",
    "print(list(result))"
   ]
  },
  {
   "cell_type": "code",
   "execution_count": null,
   "id": "dc316af3-b690-4576-a8dd-03d1bea80ee7",
   "metadata": {},
   "outputs": [],
   "source": []
  }
 ],
 "metadata": {
  "kernelspec": {
   "display_name": "Python 3 (ipykernel)",
   "language": "python",
   "name": "python3"
  },
  "language_info": {
   "codemirror_mode": {
    "name": "ipython",
    "version": 3
   },
   "file_extension": ".py",
   "mimetype": "text/x-python",
   "name": "python",
   "nbconvert_exporter": "python",
   "pygments_lexer": "ipython3",
   "version": "3.8.10"
  }
 },
 "nbformat": 4,
 "nbformat_minor": 5
}
