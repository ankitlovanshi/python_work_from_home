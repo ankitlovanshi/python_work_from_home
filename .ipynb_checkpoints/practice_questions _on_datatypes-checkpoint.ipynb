{
 "cells": [
  {
   "cell_type": "code",
   "execution_count": null,
   "id": "bc2efe02-aace-41de-88ed-49982f8228d5",
   "metadata": {},
   "outputs": [],
   "source": [
    "# List"
   ]
  },
  {
   "cell_type": "code",
   "execution_count": 21,
   "id": "45f265b9-30ec-43f8-a57c-1098e05dc89f",
   "metadata": {},
   "outputs": [
    {
     "name": "stdout",
     "output_type": "stream",
     "text": [
      "9\n"
     ]
    }
   ],
   "source": [
    "# Question 1: Given a list of integers, write a function that finds the second largest number.\n",
    "def second_largest(nums):\n",
    "    largest = 0\n",
    "    second_largest = 0\n",
    "    for val in nums:\n",
    "       if largest < val:\n",
    "           largest = val\n",
    "            \n",
    "    for val in nums:\n",
    "        if largest > val & largest > second_largest:\n",
    "            second_largest = val\n",
    "    return second_largest\n",
    "\n",
    "        \n",
    "    \n",
    "nums = [5, 2, 9, 10, 5, 6]\n",
    "result = second_largest(nums)\n",
    "print(result)"
   ]
  },
  {
   "cell_type": "code",
   "execution_count": 25,
   "id": "9293b097-3dcf-487a-8d4a-790974488cf6",
   "metadata": {},
   "outputs": [
    {
     "name": "stdout",
     "output_type": "stream",
     "text": [
      "[3, 4, 5, 1, 2]\n"
     ]
    }
   ],
   "source": [
    "# Question 2: Write a function that rotates a list to the left by k positions.\n",
    "\n",
    "def rotate_left(lst, k):\n",
    "    for i in range(k):\n",
    "        temp = lst[0]\n",
    "        lst.remove(temp)\n",
    "        lst.append(temp)\n",
    "    return lst;\n",
    "    \n",
    "lst = [1, 2, 3, 4, 5]\n",
    "result = rotate_left(lst, 2)\n",
    "print(result)"
   ]
  },
  {
   "cell_type": "code",
   "execution_count": 27,
   "id": "98a82cdf-0a72-49cd-922f-a894dbdeec72",
   "metadata": {},
   "outputs": [
    {
     "name": "stdout",
     "output_type": "stream",
     "text": [
      "[1, 2, 3, 4, 5, 6]\n"
     ]
    }
   ],
   "source": [
    "# Question 3: Merge two sorted lists into a new sorted list without using built-in sorting functions.\n",
    "def merge_sorted_lists(lst1, lst2):\n",
    "    new_lst = []\n",
    "    for i in range(len(lst1)):\n",
    "        if lst1[i] < lst2[i]:\n",
    "            new_lst.append(lst1[i])\n",
    "            new_lst.append(lst2[i])\n",
    "            \n",
    "    return new_lst\n",
    "    \n",
    "lst1 = [1, 3, 5]\n",
    "lst2 = [2, 4, 6]\n",
    "result = merge_sorted_lists(lst1, lst2)\n",
    "print(result)"
   ]
  },
  {
   "cell_type": "code",
   "execution_count": null,
   "id": "3204b65d-dcd5-4a2e-a1f4-f6438600917f",
   "metadata": {},
   "outputs": [],
   "source": []
  }
 ],
 "metadata": {
  "kernelspec": {
   "display_name": "Python 3 (ipykernel)",
   "language": "python",
   "name": "python3"
  },
  "language_info": {
   "codemirror_mode": {
    "name": "ipython",
    "version": 3
   },
   "file_extension": ".py",
   "mimetype": "text/x-python",
   "name": "python",
   "nbconvert_exporter": "python",
   "pygments_lexer": "ipython3",
   "version": "3.8.10"
  }
 },
 "nbformat": 4,
 "nbformat_minor": 5
}
