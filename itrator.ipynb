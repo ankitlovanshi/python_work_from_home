{
 "cells": [
  {
   "cell_type": "code",
   "execution_count": 1,
   "id": "b4ea96b1-58a5-4085-aced-901823f50f02",
   "metadata": {},
   "outputs": [],
   "source": [
    "list1 = [10, 20, 30, 40, 50, 60]"
   ]
  },
  {
   "cell_type": "code",
   "execution_count": 2,
   "id": "62437610-99b8-46a0-8449-eb2da1652beb",
   "metadata": {},
   "outputs": [
    {
     "name": "stdout",
     "output_type": "stream",
     "text": [
      "[10, 20, 30, 40, 50, 60]\n"
     ]
    }
   ],
   "source": [
    "print(list1)"
   ]
  },
  {
   "cell_type": "code",
   "execution_count": 4,
   "id": "95dc6bae-3969-4e0d-8242-a19d84c2c7c5",
   "metadata": {},
   "outputs": [
    {
     "data": {
      "text/plain": [
       "list"
      ]
     },
     "execution_count": 4,
     "metadata": {},
     "output_type": "execute_result"
    }
   ],
   "source": [
    "type(list1)"
   ]
  },
  {
   "cell_type": "code",
   "execution_count": 5,
   "id": "0b76cfb6-4903-4021-b0e6-04b699c0c5de",
   "metadata": {},
   "outputs": [],
   "source": [
    "itrator = iter(list1)"
   ]
  },
  {
   "cell_type": "code",
   "execution_count": 6,
   "id": "355945aa-1904-4930-8cff-d31656f5a285",
   "metadata": {},
   "outputs": [
    {
     "data": {
      "text/plain": [
       "<list_iterator at 0x7f1712cfc0a0>"
      ]
     },
     "execution_count": 6,
     "metadata": {},
     "output_type": "execute_result"
    }
   ],
   "source": [
    "itrator"
   ]
  },
  {
   "cell_type": "code",
   "execution_count": 7,
   "id": "b0f2c96f-f187-4729-bedc-df3247ce3d00",
   "metadata": {},
   "outputs": [
    {
     "data": {
      "text/plain": [
       "list_iterator"
      ]
     },
     "execution_count": 7,
     "metadata": {},
     "output_type": "execute_result"
    }
   ],
   "source": [
    "type(itrator)"
   ]
  },
  {
   "cell_type": "code",
   "execution_count": 9,
   "id": "700b3112-81f2-47f4-9ea2-a44be99f6fbb",
   "metadata": {},
   "outputs": [
    {
     "data": {
      "text/plain": [
       "10"
      ]
     },
     "execution_count": 9,
     "metadata": {},
     "output_type": "execute_result"
    }
   ],
   "source": [
    "next(itrator)"
   ]
  },
  {
   "cell_type": "code",
   "execution_count": 10,
   "id": "c8fdc211-b6d6-40bb-b053-a94345873a42",
   "metadata": {},
   "outputs": [
    {
     "data": {
      "text/plain": [
       "20"
      ]
     },
     "execution_count": 10,
     "metadata": {},
     "output_type": "execute_result"
    }
   ],
   "source": [
    "next(itrator)"
   ]
  },
  {
   "cell_type": "code",
   "execution_count": 1,
   "id": "b2c1cd3a-ad85-4622-a06c-03d3d015a1e8",
   "metadata": {},
   "outputs": [
    {
     "name": "stdout",
     "output_type": "stream",
     "text": [
      "0\n",
      "1\n",
      "2\n"
     ]
    }
   ],
   "source": [
    "def my_generator(n):\n",
    "\n",
    "    # initialize counter\n",
    "    value = 0\n",
    "\n",
    "    # loop until counter is less than n\n",
    "    while value < n:\n",
    "\n",
    "        # produce the current value of the counter\n",
    "        yield value\n",
    "\n",
    "        # increment the counter\n",
    "        value += 1\n",
    "\n",
    "# iterate over the generator object produced by my_generator\n",
    "for value in my_generator(3):\n",
    "\n",
    "    # print each value produced by generator\n",
    "    print(value)"
   ]
  },
  {
   "cell_type": "code",
   "execution_count": null,
   "id": "d82349b0-d837-4162-8286-a38c480aa8b7",
   "metadata": {},
   "outputs": [],
   "source": []
  }
 ],
 "metadata": {
  "kernelspec": {
   "display_name": "Python 3 (ipykernel)",
   "language": "python",
   "name": "python3"
  },
  "language_info": {
   "codemirror_mode": {
    "name": "ipython",
    "version": 3
   },
   "file_extension": ".py",
   "mimetype": "text/x-python",
   "name": "python",
   "nbconvert_exporter": "python",
   "pygments_lexer": "ipython3",
   "version": "3.8.10"
  }
 },
 "nbformat": 4,
 "nbformat_minor": 5
}
