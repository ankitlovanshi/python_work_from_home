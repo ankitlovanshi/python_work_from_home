{
 "cells": [
  {
   "cell_type": "code",
   "execution_count": 1,
   "id": "c09c5cf6-579d-4e47-a9d3-e9b4618e0f6d",
   "metadata": {},
   "outputs": [],
   "source": [
    "# create function\n",
    "def getDetails():\n",
    "    print(\"This is Ankit Lovanshi\")"
   ]
  },
  {
   "cell_type": "code",
   "execution_count": 2,
   "id": "269b6b78-96be-4263-967a-45b8d169db25",
   "metadata": {},
   "outputs": [
    {
     "name": "stdout",
     "output_type": "stream",
     "text": [
      "This is Ankit Lovanshi\n"
     ]
    }
   ],
   "source": [
    "# function call\n",
    "getDetails()"
   ]
  },
  {
   "cell_type": "code",
   "execution_count": 3,
   "id": "995e5847-eae1-4c04-89ae-6fbfb398afe7",
   "metadata": {},
   "outputs": [
    {
     "name": "stdout",
     "output_type": "stream",
     "text": [
      "Ankit\n"
     ]
    }
   ],
   "source": [
    "# arguments\n",
    "def getDetails(fname):\n",
    "    print(fname)\n",
    "\n",
    "# pass value in argument\n",
    "getDetails(\"Ankit\")"
   ]
  },
  {
   "cell_type": "code",
   "execution_count": 4,
   "id": "24f56801-9366-4493-8846-7a9c23a15886",
   "metadata": {},
   "outputs": [
    {
     "name": "stdout",
     "output_type": "stream",
     "text": [
      "None\n"
     ]
    }
   ],
   "source": [
    "# defalut value\n",
    "def getDetails(fname='None'):\n",
    "    print(fname)\n",
    "\n",
    "# pass value in argument\n",
    "getDetails()"
   ]
  },
  {
   "cell_type": "code",
   "execution_count": 5,
   "id": "5f2cbe81-6430-4de4-824f-2d04555770e9",
   "metadata": {},
   "outputs": [
    {
     "name": "stdout",
     "output_type": "stream",
     "text": [
      "Ankit\n"
     ]
    }
   ],
   "source": [
    "# return statement\n",
    "def getDetails(fname):\n",
    "    return fname\n",
    "\n",
    "result = getDetails(\"Ankit\")\n",
    "print(result)"
   ]
  },
  {
   "cell_type": "code",
   "execution_count": 7,
   "id": "fd6b6217-07e9-4eb2-8fa8-966056387581",
   "metadata": {},
   "outputs": [
    {
     "name": "stdout",
     "output_type": "stream",
     "text": [
      "15\n"
     ]
    }
   ],
   "source": [
    "# *args function\n",
    "def getSum(*nums):\n",
    "    return sum(nums)\n",
    "\n",
    "result = getSum(1,2,3,4,5)\n",
    "print(result)"
   ]
  },
  {
   "cell_type": "code",
   "execution_count": 9,
   "id": "44e78f2a-89a5-4de4-a0b6-5fe48233e79d",
   "metadata": {},
   "outputs": [
    {
     "name": "stdout",
     "output_type": "stream",
     "text": [
      "1\n",
      "4\n",
      "9\n",
      "16\n",
      "25\n"
     ]
    }
   ],
   "source": [
    "# *args function\n",
    "def square(*nums):\n",
    "    for val in nums:\n",
    "        print(val**2)\n",
    "\n",
    "square(1,2,3,4,5)\n"
   ]
  },
  {
   "cell_type": "code",
   "execution_count": 10,
   "id": "357d1076-375b-4e67-b83e-df56363ac506",
   "metadata": {},
   "outputs": [
    {
     "name": "stdout",
     "output_type": "stream",
     "text": [
      "fname : Ankit\n",
      "lname : Lovanshi\n",
      "city : Indore\n"
     ]
    }
   ],
   "source": [
    "# *kwargs function\n",
    "def getDetails(**details):\n",
    "    for key, value in details.items():\n",
    "        print(f\"{key} : {value}\")\n",
    "\n",
    "getDetails(fname='Ankit', lname='Lovanshi', city='Indore')"
   ]
  },
  {
   "cell_type": "code",
   "execution_count": null,
   "id": "6f29a71f-fe28-4d5a-9c9d-1c786b014fd3",
   "metadata": {},
   "outputs": [],
   "source": []
  }
 ],
 "metadata": {
  "kernelspec": {
   "display_name": "Python 3 (ipykernel)",
   "language": "python",
   "name": "python3"
  },
  "language_info": {
   "codemirror_mode": {
    "name": "ipython",
    "version": 3
   },
   "file_extension": ".py",
   "mimetype": "text/x-python",
   "name": "python",
   "nbconvert_exporter": "python",
   "pygments_lexer": "ipython3",
   "version": "3.8.10"
  }
 },
 "nbformat": 4,
 "nbformat_minor": 5
}
