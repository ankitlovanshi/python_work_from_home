{
 "cells": [
  {
   "cell_type": "code",
   "execution_count": 1,
   "id": "c09c5cf6-579d-4e47-a9d3-e9b4618e0f6d",
   "metadata": {},
   "outputs": [],
   "source": [
    "# create function\n",
    "def getDetails():\n",
    "    print(\"This is Ankit Lovanshi\")"
   ]
  },
  {
   "cell_type": "code",
   "execution_count": 2,
   "id": "269b6b78-96be-4263-967a-45b8d169db25",
   "metadata": {},
   "outputs": [
    {
     "name": "stdout",
     "output_type": "stream",
     "text": [
      "This is Ankit Lovanshi\n"
     ]
    }
   ],
   "source": [
    "# function call\n",
    "getDetails()"
   ]
  },
  {
   "cell_type": "code",
   "execution_count": 3,
   "id": "995e5847-eae1-4c04-89ae-6fbfb398afe7",
   "metadata": {},
   "outputs": [
    {
     "name": "stdout",
     "output_type": "stream",
     "text": [
      "Ankit\n"
     ]
    }
   ],
   "source": [
    "# arguments\n",
    "def getDetails(fname):\n",
    "    print(fname)\n",
    "\n",
    "# pass value in argument\n",
    "getDetails(\"Ankit\")"
   ]
  },
  {
   "cell_type": "code",
   "execution_count": 4,
   "id": "24f56801-9366-4493-8846-7a9c23a15886",
   "metadata": {},
   "outputs": [
    {
     "name": "stdout",
     "output_type": "stream",
     "text": [
      "None\n"
     ]
    }
   ],
   "source": [
    "# defalut value\n",
    "def getDetails(fname='None'):\n",
    "    print(fname)\n",
    "\n",
    "# pass value in argument\n",
    "getDetails()"
   ]
  },
  {
   "cell_type": "code",
   "execution_count": 5,
   "id": "5f2cbe81-6430-4de4-824f-2d04555770e9",
   "metadata": {},
   "outputs": [
    {
     "name": "stdout",
     "output_type": "stream",
     "text": [
      "Ankit\n"
     ]
    }
   ],
   "source": [
    "# return statement\n",
    "def getDetails(fname):\n",
    "    return fname\n",
    "\n",
    "result = getDetails(\"Ankit\")\n",
    "print(result)"
   ]
  },
  {
   "cell_type": "code",
   "execution_count": 7,
   "id": "fd6b6217-07e9-4eb2-8fa8-966056387581",
   "metadata": {},
   "outputs": [
    {
     "name": "stdout",
     "output_type": "stream",
     "text": [
      "15\n"
     ]
    }
   ],
   "source": [
    "# *args function\n",
    "def getSum(*nums):\n",
    "    return sum(nums)\n",
    "\n",
    "result = getSum(1,2,3,4,5)\n",
    "print(result)"
   ]
  },
  {
   "cell_type": "code",
   "execution_count": 9,
   "id": "44e78f2a-89a5-4de4-a0b6-5fe48233e79d",
   "metadata": {},
   "outputs": [
    {
     "name": "stdout",
     "output_type": "stream",
     "text": [
      "1\n",
      "4\n",
      "9\n",
      "16\n",
      "25\n"
     ]
    }
   ],
   "source": [
    "# *args function\n",
    "def square(*nums):\n",
    "    for val in nums:\n",
    "        print(val**2)\n",
    "\n",
    "square(1,2,3,4,5)\n"
   ]
  },
  {
   "cell_type": "code",
   "execution_count": 10,
   "id": "357d1076-375b-4e67-b83e-df56363ac506",
   "metadata": {},
   "outputs": [
    {
     "name": "stdout",
     "output_type": "stream",
     "text": [
      "fname : Ankit\n",
      "lname : Lovanshi\n",
      "city : Indore\n"
     ]
    }
   ],
   "source": [
    "# *kwargs function\n",
    "def getDetails(**details):\n",
    "    for key, value in details.items():\n",
    "        print(f\"{key} : {value}\")\n",
    "\n",
    "getDetails(fname='Ankit', lname='Lovanshi', city='Indore')"
   ]
  },
  {
   "cell_type": "code",
   "execution_count": 11,
   "id": "6f29a71f-fe28-4d5a-9c9d-1c786b014fd3",
   "metadata": {},
   "outputs": [
    {
     "name": "stdout",
     "output_type": "stream",
     "text": [
      "Hello\n"
     ]
    }
   ],
   "source": [
    "# local scope\n",
    "def greet():\n",
    "    message = 'Hello'\n",
    "    print(message)\n",
    "\n",
    "greet()"
   ]
  },
  {
   "cell_type": "code",
   "execution_count": 12,
   "id": "51b362c8-720b-4864-8959-520e43092d0e",
   "metadata": {},
   "outputs": [
    {
     "name": "stdout",
     "output_type": "stream",
     "text": [
      "Hello\n"
     ]
    },
    {
     "ename": "NameError",
     "evalue": "name 'message' is not defined",
     "output_type": "error",
     "traceback": [
      "\u001b[0;31m---------------------------------------------------------------------------\u001b[0m",
      "\u001b[0;31mNameError\u001b[0m                                 Traceback (most recent call last)",
      "Cell \u001b[0;32mIn[12], line 7\u001b[0m\n\u001b[1;32m      4\u001b[0m     \u001b[38;5;28mprint\u001b[39m(message)\n\u001b[1;32m      6\u001b[0m greet()\n\u001b[0;32m----> 7\u001b[0m \u001b[38;5;28mprint\u001b[39m(\u001b[43mmessage\u001b[49m)\n",
      "\u001b[0;31mNameError\u001b[0m: name 'message' is not defined"
     ]
    }
   ],
   "source": [
    "# access outside the function\n",
    "def greet():\n",
    "    message = 'Hello'\n",
    "    print(message)\n",
    "\n",
    "greet()\n",
    "print(message)"
   ]
  },
  {
   "cell_type": "code",
   "execution_count": 13,
   "id": "87f0754e-e3d8-49c1-a790-187d5f53a40d",
   "metadata": {},
   "outputs": [
    {
     "name": "stdout",
     "output_type": "stream",
     "text": [
      "Hello\n"
     ]
    }
   ],
   "source": [
    "# global scope\n",
    "message = \"Hello\"\n",
    "def greet():\n",
    "    print(message)\n",
    "\n",
    "greet()"
   ]
  },
  {
   "cell_type": "code",
   "execution_count": 14,
   "id": "94648616-f580-4ef6-acd9-3c0be17196dd",
   "metadata": {},
   "outputs": [
    {
     "name": "stdout",
     "output_type": "stream",
     "text": [
      "Hello\n",
      "Hello\n"
     ]
    }
   ],
   "source": [
    "# global scope outsidet the function\n",
    "message = \"Hello\"\n",
    "def greet():\n",
    "    print(message)\n",
    "\n",
    "greet()\n",
    "print(message)"
   ]
  },
  {
   "cell_type": "code",
   "execution_count": 16,
   "id": "1dd7b2f5-956f-4aa2-a42e-ec3699723e09",
   "metadata": {},
   "outputs": [
    {
     "name": "stdout",
     "output_type": "stream",
     "text": [
      "local Hello ---> before inner\n",
      "inner Hello ---> inseid inner\n",
      "local Hello ---> outside inner after inner\n"
     ]
    }
   ],
   "source": [
    "# wihtou nonlocal scope\n",
    "# Nonlocal:\n",
    "# Basically it is used in nested function because if you want to change the value of the local variable in \n",
    "# the nested function and if you will declare a variable as a same name then it will create new local variable \n",
    "# in nested function that’s why we use the nonlocal and it’s change the values locally\n",
    "\n",
    "def outer():\n",
    "    message = 'local Hello'\n",
    "    print(message, \"---> before inner\")\n",
    "    def inner():\n",
    "        message = \"inner Hello\"\n",
    "        print(message, \"---> inseid inner\")\n",
    "    inner()\n",
    "    print(message, \"---> outside inner after inner\")\n",
    "\n",
    "outer()\n",
    "        "
   ]
  },
  {
   "cell_type": "code",
   "execution_count": 18,
   "id": "fb0e6dd5-59cf-4911-9c04-6df3b34ec4ef",
   "metadata": {},
   "outputs": [
    {
     "name": "stdout",
     "output_type": "stream",
     "text": [
      "local Hello ---> before inner\n",
      "inner Hello ---> inseid inner\n",
      "inner Hello ---> outside inner after inner\n"
     ]
    }
   ],
   "source": [
    "# wihtou nonlocal scope\n",
    "def outer():\n",
    "    message = 'local Hello'\n",
    "    print(message, \"---> before inner\")\n",
    "    def inner():\n",
    "        nonlocal message\n",
    "        message = \"inner Hello\"\n",
    "        print(message, \"---> inseid inner\")\n",
    "    inner()\n",
    "    print(message, \"---> outside inner after inner\")\n",
    "\n",
    "outer()\n",
    "        "
   ]
  },
  {
   "cell_type": "code",
   "execution_count": null,
   "id": "2edea756-e555-49ca-ad2e-198e1279a5a1",
   "metadata": {},
   "outputs": [],
   "source": []
  }
 ],
 "metadata": {
  "kernelspec": {
   "display_name": "Python 3 (ipykernel)",
   "language": "python",
   "name": "python3"
  },
  "language_info": {
   "codemirror_mode": {
    "name": "ipython",
    "version": 3
   },
   "file_extension": ".py",
   "mimetype": "text/x-python",
   "name": "python",
   "nbconvert_exporter": "python",
   "pygments_lexer": "ipython3",
   "version": "3.8.10"
  }
 },
 "nbformat": 4,
 "nbformat_minor": 5
}
