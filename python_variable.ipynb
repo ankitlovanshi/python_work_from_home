{
 "cells": [
  {
   "cell_type": "code",
   "execution_count": 2,
   "id": "37508b66-4540-4ab8-bbce-faae7a94c455",
   "metadata": {},
   "outputs": [
    {
     "name": "stdout",
     "output_type": "stream",
     "text": [
      "Ankit\n"
     ]
    }
   ],
   "source": [
    "print(\"Ankit\")"
   ]
  },
  {
   "cell_type": "code",
   "execution_count": 3,
   "id": "773ddd64-d924-4f51-9b0f-87d0ca1c4018",
   "metadata": {},
   "outputs": [
    {
     "data": {
      "text/plain": [
       "str"
      ]
     },
     "execution_count": 3,
     "metadata": {},
     "output_type": "execute_result"
    }
   ],
   "source": [
    "# we know in the python every data items belongs to class\n",
    "type(\"Ankit\")\n",
    "\n",
    "# we can see \"Ankit\" is belongs to string class"
   ]
  },
  {
   "cell_type": "code",
   "execution_count": 4,
   "id": "109d3626-44ef-4bc4-ac78-51c2b08f9459",
   "metadata": {},
   "outputs": [
    {
     "data": {
      "text/plain": [
       "139764681200944"
      ]
     },
     "execution_count": 4,
     "metadata": {},
     "output_type": "execute_result"
    }
   ],
   "source": [
    "# create id by the object\n",
    "id('Ankit')"
   ]
  },
  {
   "cell_type": "code",
   "execution_count": 5,
   "id": "62fae871-6091-408b-a793-d459c1bfd459",
   "metadata": {},
   "outputs": [],
   "source": [
    "# Type of the variable\n",
    "# local variable\n",
    "# Global variable\n",
    "# class Variable"
   ]
  },
  {
   "cell_type": "code",
   "execution_count": 6,
   "id": "e046020b-63f6-42b4-8765-5a43cd737875",
   "metadata": {},
   "outputs": [
    {
     "name": "stdout",
     "output_type": "stream",
     "text": [
      "20\n"
     ]
    }
   ],
   "source": [
    "# local variable ---> declear inside the class\n",
    "\n",
    "# decleare a function\n",
    "def add_numbers():\n",
    "    a = 10\n",
    "    b = 10\n",
    "    c = a + b\n",
    "    print(c)\n",
    "\n",
    "# call function\n",
    "add_numbers()"
   ]
  },
  {
   "cell_type": "code",
   "execution_count": 7,
   "id": "ec3e9c28-b398-4d38-a87e-8f2948916a10",
   "metadata": {},
   "outputs": [
    {
     "name": "stdout",
     "output_type": "stream",
     "text": [
      "100\n"
     ]
    }
   ],
   "source": [
    "# Global variable --> it's access scope globaly and decleare outside the function\n",
    "\n",
    "x = 100\n",
    "\n",
    "def mainFunction():\n",
    "    print(x)\n",
    "\n",
    "mainFunction()"
   ]
  },
  {
   "cell_type": "code",
   "execution_count": 8,
   "id": "37e03821-6711-4021-8f45-7d20ff9fe464",
   "metadata": {},
   "outputs": [
    {
     "name": "stdout",
     "output_type": "stream",
     "text": [
      "after assignment x variable\n",
      "200\n",
      "After calling function\n",
      "200\n"
     ]
    }
   ],
   "source": [
    "# in this belove code global is used becouse it's refere to the global variable and it's changing the value \n",
    "# by global becouse if we will write without global it will be local variable\n",
    "\n",
    "x = 100\n",
    "\n",
    "def mainFunction():\n",
    "    global x\n",
    "    x = 200\n",
    "    print(\"after assignment x variable\")\n",
    "    print(x)\n",
    "\n",
    "\n",
    "mainFunction()\n",
    "print(\"After calling function\")\n",
    "print(x)\n"
   ]
  },
  {
   "cell_type": "code",
   "execution_count": 12,
   "id": "624dba2c-0e71-4a14-baa9-e7ee7a7537ce",
   "metadata": {},
   "outputs": [
    {
     "name": "stdout",
     "output_type": "stream",
     "text": [
      "10\n"
     ]
    }
   ],
   "source": [
    "# variable declearation\n",
    "a = 10\n",
    "print(a)"
   ]
  },
  {
   "cell_type": "code",
   "execution_count": 13,
   "id": "00c0bf8b-c2f8-4015-9330-b1cd7ba4c803",
   "metadata": {},
   "outputs": [],
   "source": [
    "# delete variable\n",
    "del a"
   ]
  },
  {
   "cell_type": "code",
   "execution_count": 14,
   "id": "2500afcb-b547-46e4-a51d-4a20999587ed",
   "metadata": {},
   "outputs": [
    {
     "ename": "NameError",
     "evalue": "name 'a' is not defined",
     "output_type": "error",
     "traceback": [
      "\u001b[0;31m---------------------------------------------------------------------------\u001b[0m",
      "\u001b[0;31mNameError\u001b[0m                                 Traceback (most recent call last)",
      "Cell \u001b[0;32mIn[14], line 2\u001b[0m\n\u001b[1;32m      1\u001b[0m \u001b[38;5;66;03m# after delete variable\u001b[39;00m\n\u001b[0;32m----> 2\u001b[0m \u001b[38;5;28mprint\u001b[39m(\u001b[43ma\u001b[49m)\n",
      "\u001b[0;31mNameError\u001b[0m: name 'a' is not defined"
     ]
    }
   ],
   "source": [
    "# after delete variable\n",
    "print(a)"
   ]
  },
  {
   "cell_type": "code",
   "execution_count": null,
   "id": "0b56c738-eb36-4511-83be-21675a1e33a4",
   "metadata": {},
   "outputs": [],
   "source": [
    "    "
   ]
  }
 ],
 "metadata": {
  "kernelspec": {
   "display_name": "Python 3 (ipykernel)",
   "language": "python",
   "name": "python3"
  },
  "language_info": {
   "codemirror_mode": {
    "name": "ipython",
    "version": 3
   },
   "file_extension": ".py",
   "mimetype": "text/x-python",
   "name": "python",
   "nbconvert_exporter": "python",
   "pygments_lexer": "ipython3",
   "version": "3.8.10"
  }
 },
 "nbformat": 4,
 "nbformat_minor": 5
}
