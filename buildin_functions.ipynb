{
 "cells": [
  {
   "cell_type": "code",
   "execution_count": 10,
   "id": "96ab7585-72f6-40d0-8183-d2813413f4ac",
   "metadata": {},
   "outputs": [
    {
     "name": "stdout",
     "output_type": "stream",
     "text": [
      "4\n"
     ]
    }
   ],
   "source": [
    "def square(x):\n",
    "    return x ** 2\n",
    "\n",
    "result = square(2)\n",
    "print(result)"
   ]
  },
  {
   "cell_type": "code",
   "execution_count": 7,
   "id": "9f455170-2374-4d3e-88ed-bafb632b42da",
   "metadata": {},
   "outputs": [
    {
     "name": "stdout",
     "output_type": "stream",
     "text": [
      "Hello World\n"
     ]
    }
   ],
   "source": [
    "greet = lambda : print(\"Hello World\")\n",
    "greet()"
   ]
  },
  {
   "cell_type": "code",
   "execution_count": 8,
   "id": "d4b6b3c3-8685-415f-9fd0-160e427e8101",
   "metadata": {},
   "outputs": [
    {
     "data": {
      "text/plain": [
       "<function __main__.<lambda>()>"
      ]
     },
     "execution_count": 8,
     "metadata": {},
     "output_type": "execute_result"
    }
   ],
   "source": [
    "greet = lambda : print(\"Hello World\")\n",
    "greet"
   ]
  },
  {
   "cell_type": "code",
   "execution_count": 6,
   "id": "8f057435-1aae-496e-957e-b63994eb25fa",
   "metadata": {},
   "outputs": [
    {
     "name": "stdout",
     "output_type": "stream",
     "text": [
      "<function <lambda> at 0x7fca54ab8b80>\n"
     ]
    }
   ],
   "source": [
    "# lambda function\n",
    "result = lambda x : x ** 2\n",
    "print(result)"
   ]
  },
  {
   "cell_type": "code",
   "execution_count": 7,
   "id": "569301e1-1ce4-4db2-b843-fdb54de21563",
   "metadata": {},
   "outputs": [
    {
     "name": "stdout",
     "output_type": "stream",
     "text": [
      "4\n"
     ]
    }
   ],
   "source": [
    "# lambda function with passing value\n",
    "result = lambda x : x ** 2\n",
    "print(result(2))"
   ]
  },
  {
   "cell_type": "code",
   "execution_count": 10,
   "id": "5c77d76c-b682-46cd-84d1-16a5daae23b8",
   "metadata": {},
   "outputs": [
    {
     "name": "stdout",
     "output_type": "stream",
     "text": [
      "Hello Ankit\n"
     ]
    }
   ],
   "source": [
    "# lambda function with passing argument\n",
    "result = lambda name : print(f\"Hello {name}\")\n",
    "result(\"Ankit\")"
   ]
  },
  {
   "cell_type": "code",
   "execution_count": 9,
   "id": "78f10b69-d767-4cad-9543-edb960492ea8",
   "metadata": {},
   "outputs": [
    {
     "name": "stdout",
     "output_type": "stream",
     "text": [
      "20\n"
     ]
    }
   ],
   "source": [
    "# lambda function with passing multiple values\n",
    "result = lambda x, y : x * y\n",
    "print(result(2, 10))"
   ]
  },
  {
   "cell_type": "code",
   "execution_count": 12,
   "id": "21f974c8-40dd-4d0c-b6b9-ff44c15585c8",
   "metadata": {},
   "outputs": [
    {
     "name": "stdout",
     "output_type": "stream",
     "text": [
      "[1, 4, 9, 16, 25]\n"
     ]
    }
   ],
   "source": [
    "# map function\n",
    "nums = [1, 2, 3, 4, 5]\n",
    "def square(x):\n",
    "    return x ** 2\n",
    "\n",
    "result = map(square, nums)\n",
    "print(list(result))"
   ]
  },
  {
   "cell_type": "code",
   "execution_count": 13,
   "id": "441bef45-cafc-4dab-ac3c-65087ab7ab52",
   "metadata": {},
   "outputs": [
    {
     "name": "stdout",
     "output_type": "stream",
     "text": [
      "[1, 4, 9, 16, 25]\n"
     ]
    }
   ],
   "source": [
    "# map function with lambda function\n",
    "nums = [1, 2, 3, 4, 5]\n",
    "\n",
    "result = map(lambda x : x ** 2, nums)\n",
    "print(list(result))"
   ]
  },
  {
   "cell_type": "code",
   "execution_count": 14,
   "id": "5044c8e7-1834-4c23-bd2a-ea9638d91a71",
   "metadata": {},
   "outputs": [
    {
     "name": "stdout",
     "output_type": "stream",
     "text": [
      "[2, 4]\n"
     ]
    }
   ],
   "source": [
    "# filter function (it basically filter the iterable object)\n",
    "nums = [1, 2, 3, 4, 5]\n",
    "def square(x):\n",
    "    if x%2 == 0:\n",
    "        return x\n",
    "\n",
    "result = filter(square, nums)\n",
    "print(list(result))"
   ]
  },
  {
   "cell_type": "code",
   "execution_count": 14,
   "id": "6dcc5922-dcb7-429e-b101-3ebad4762e2d",
   "metadata": {},
   "outputs": [
    {
     "name": "stdout",
     "output_type": "stream",
     "text": [
      "[2, 4]\n"
     ]
    }
   ],
   "source": [
    "# filter function (it basically filter the iterable object)\n",
    "nums = [1, 2, 3, 4, 5]\n",
    "def square(x):\n",
    "    if x%2 == 0:\n",
    "        return x\n",
    "\n",
    "result = filter(lambda x: if , nums)\n",
    "print(list(result))"
   ]
  },
  {
   "cell_type": "code",
   "execution_count": 19,
   "id": "dc316af3-b690-4576-a8dd-03d1bea80ee7",
   "metadata": {},
   "outputs": [
    {
     "data": {
      "text/plain": [
       "[4, 16, 36, 64, 100]"
      ]
     },
     "execution_count": 19,
     "metadata": {},
     "output_type": "execute_result"
    }
   ],
   "source": [
    "# List Comprehensions\n",
    "# Intermediate: Given a list of integers, generate a new list that contains only the squares of the even numbers from the original list.\n",
    "numbers = [1, 2, 3, 4, 5, 6, 7, 8, 9, 10]\n",
    "result = list(map(lambda y : y**2, list(filter(lambda x : x%2==0, numbers))))\n",
    "result"
   ]
  },
  {
   "cell_type": "code",
   "execution_count": 37,
   "id": "e0c63eca-c50e-4f61-be42-f39d2c4e4758",
   "metadata": {},
   "outputs": [
    {
     "data": {
      "text/plain": [
       "[(15, 225)]"
      ]
     },
     "execution_count": 37,
     "metadata": {},
     "output_type": "execute_result"
    }
   ],
   "source": [
    "# Advanced: Create a list of tuples where each tuple contains a number and its square for numbers between 1 and 20\n",
    "# that are divisible by both 3 and 5.\n",
    "nums = [(val, val**2) for val in range(1, 21) if val%3==0 and val%5==0]\n",
    "nums"
   ]
  },
  {
   "cell_type": "code",
   "execution_count": null,
   "id": "517dcbc0-18ac-46a2-a139-15604a7d9494",
   "metadata": {},
   "outputs": [],
   "source": [
    "# Advanced: Given a list of strings, generate a new list that contains the strings in uppercase and only those that have an even length."
   ]
  },
  {
   "cell_type": "code",
   "execution_count": 39,
   "id": "48b17e80-e32e-4dac-a118-1f71ba8a26e3",
   "metadata": {},
   "outputs": [
    {
     "data": {
      "text/plain": [
       "['BANANA', 'CHERRY', 'DATE', 'ELDERBERRY']"
      ]
     },
     "execution_count": 39,
     "metadata": {},
     "output_type": "execute_result"
    }
   ],
   "source": [
    "words = ['apple', 'banana', 'cherry', 'date', 'elderberry', 'fig', 'grape']\n",
    "res = [word.upper() for word in words if len(word)%2==0]\n",
    "res"
   ]
  },
  {
   "cell_type": "code",
   "execution_count": 40,
   "id": "4af332a3-aa21-4cb6-82f3-b1591f62373d",
   "metadata": {},
   "outputs": [
    {
     "data": {
      "text/plain": [
       "[1, 2, 3, 4, 5]"
      ]
     },
     "execution_count": 40,
     "metadata": {},
     "output_type": "execute_result"
    }
   ],
   "source": [
    "# Intermediate: Use map to create a new list by converting all strings in a list to integers.\n",
    "str_numbers = ['1', '2', '3', '4', '5']\n",
    "int_numbers = list(map(lambda x : int(x), str_numbers))\n",
    "int_numbers"
   ]
  },
  {
   "cell_type": "code",
   "execution_count": null,
   "id": "ee7283d3-8cd8-4341-9b03-b208ff7ddef4",
   "metadata": {},
   "outputs": [],
   "source": [
    "# Advanced: Given two lists of numbers, use map and a lambda function to create a new list that contains the\n",
    "# product of the corresponding elements of the two lists.\n",
    "list1 = [1, 2, 3, 4, 5]\n",
    "list2 = [10, 20, 30, 40, 50]\n",
    "res = list(map(lambda i : list1[i]*list2[i], ))"
   ]
  }
 ],
 "metadata": {
  "kernelspec": {
   "display_name": "Python 3 (ipykernel)",
   "language": "python",
   "name": "python3"
  },
  "language_info": {
   "codemirror_mode": {
    "name": "ipython",
    "version": 3
   },
   "file_extension": ".py",
   "mimetype": "text/x-python",
   "name": "python",
   "nbconvert_exporter": "python",
   "pygments_lexer": "ipython3",
   "version": "3.8.10"
  }
 },
 "nbformat": 4,
 "nbformat_minor": 5
}
