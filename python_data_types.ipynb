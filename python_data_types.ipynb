{
 "cells": [
  {
   "cell_type": "code",
   "execution_count": 1,
   "id": "b262af47-1039-438b-9978-b82260aa88f5",
   "metadata": {},
   "outputs": [
    {
     "name": "stdout",
     "output_type": "stream",
     "text": [
      "<class 'int'>\n"
     ]
    }
   ],
   "source": [
    "# variable decleare\n",
    "a = 10\n",
    "\n",
    "print(type(a))"
   ]
  },
  {
   "cell_type": "code",
   "execution_count": 2,
   "id": "39c23707-83f6-4c6b-8131-2a71c5dbcf1b",
   "metadata": {},
   "outputs": [
    {
     "name": "stdout",
     "output_type": "stream",
     "text": [
      "<class 'int'>\n",
      "<class 'str'>\n",
      "<class 'float'>\n"
     ]
    }
   ],
   "source": [
    "# multiple variable decleare\n",
    "num = 10\n",
    "name = \"Ankit\"\n",
    "salary = 2500.25\n",
    "print(type(num))\n",
    "print(type(name))\n",
    "print(type(salary))"
   ]
  },
  {
   "cell_type": "code",
   "execution_count": 1,
   "id": "e0e59684-cc09-42e3-9782-a3bcbb18daae",
   "metadata": {},
   "outputs": [],
   "source": [
    "# Standard data types\n",
    "\n",
    "    # 1) numberic  ---> (interger, complex number, float)\n",
    "    # 2) Dictionary  \n",
    "    # 3) bool\n",
    "    # 4) Set  ---> (String, List, Tuple)\n",
    "    # 5) Sequence type"
   ]
  },
  {
   "cell_type": "code",
   "execution_count": 4,
   "id": "207f7aa4-b788-44e7-ad34-6d5e31a93c65",
   "metadata": {},
   "outputs": [
    {
     "name": "stdout",
     "output_type": "stream",
     "text": [
      "<class 'int'>\n",
      "<class 'float'>\n",
      "<class 'complex'>\n",
      "True\n"
     ]
    }
   ],
   "source": [
    "# integer\n",
    "a = 10\n",
    "\n",
    "# float\n",
    "b = 20.3\n",
    "\n",
    "# complex number\n",
    "c = 3 + 1j\n",
    "\n",
    "print(type(a))\n",
    "print(type(b))\n",
    "print(type(c))\n",
    "\n",
    "# checking c is complex number or not\n",
    "print(isinstance(c, complex))"
   ]
  },
  {
   "cell_type": "code",
   "execution_count": 5,
   "id": "9abbd75e-92e5-4edc-949f-ec7315dfb3b9",
   "metadata": {},
   "outputs": [
    {
     "name": "stdout",
     "output_type": "stream",
     "text": [
      "Ankit\n",
      "This is \n",
      "Ankit lovanshi\n"
     ]
    }
   ],
   "source": [
    "# sting \n",
    "name = \"Ankit\"\n",
    "intro = '''This is \n",
    "Ankit lovanshi'''\n",
    "\n",
    "print(name)\n",
    "print(intro)"
   ]
  },
  {
   "cell_type": "code",
   "execution_count": 9,
   "id": "b99467d5-018e-405f-95db-c23441f3b5ad",
   "metadata": {},
   "outputs": [
    {
     "name": "stdout",
     "output_type": "stream",
     "text": [
      "This\n",
      "T\n",
      "AnkitAnkit\n",
      "AnkitThis is \n",
      "Ankit lovanshi\n"
     ]
    }
   ],
   "source": [
    "# scling\n",
    "print(intro[0:4])\n",
    "\n",
    "# access by index\n",
    "print(intro[0])\n",
    "\n",
    "# printing the string twice\n",
    "print(name * 2)\n",
    "\n",
    "#printing the concatenation of str1 and str2 \n",
    "print(name + intro)"
   ]
  },
  {
   "cell_type": "code",
   "execution_count": 13,
   "id": "02480fdc-9e1e-4ea9-8be6-df4f8c7c8e25",
   "metadata": {},
   "outputs": [
    {
     "data": {
      "text/plain": [
       "['ankit', 23, 5000, 5.4]"
      ]
     },
     "execution_count": 13,
     "metadata": {},
     "output_type": "execute_result"
    }
   ],
   "source": [
    "# list declearation\n",
    "list1 = ['ankit', 23, 5000, 5.4]\n",
    "list2 = ['Sourabh', 21, 5000, 5.3]\n",
    "list1"
   ]
  },
  {
   "cell_type": "code",
   "execution_count": 17,
   "id": "9189fd1d-9929-420f-8dc1-2f2b1c52d57a",
   "metadata": {},
   "outputs": [
    {
     "name": "stdout",
     "output_type": "stream",
     "text": [
      "ankit\n",
      "['ankit', 23]\n",
      "['ankit', 23, 5000, 5.4, 'Sourabh', 21, 5000, 5.3]\n",
      "['ankit', 23, 5000, 5.4, 'ankit', 23, 5000, 5.4, 'ankit', 23, 5000, 5.4]\n"
     ]
    }
   ],
   "source": [
    "# access\n",
    "# index\n",
    "print(list1[0])\n",
    "\n",
    "# sclicing\n",
    "print(list1[0:2])\n",
    "\n",
    "# concatenate\n",
    "print(list1 + list2)\n",
    "\n",
    "# operatore\n",
    "print(list1 * 3)"
   ]
  },
  {
   "cell_type": "code",
   "execution_count": 19,
   "id": "e8ee1960-9c77-4464-8cd7-df17c2484539",
   "metadata": {},
   "outputs": [
    {
     "name": "stdout",
     "output_type": "stream",
     "text": [
      "<class 'list'>\n"
     ]
    }
   ],
   "source": [
    "# check the object\n",
    "print(type(list1))"
   ]
  },
  {
   "cell_type": "code",
   "execution_count": 25,
   "id": "1f5475f3-b6dc-4ef0-9749-54734537fd80",
   "metadata": {},
   "outputs": [
    {
     "name": "stdout",
     "output_type": "stream",
     "text": [
      "<class 'tuple'>\n",
      "('hi', 'Python', 2)\n",
      "('hi', 'Python')\n",
      "hi\n"
     ]
    }
   ],
   "source": [
    "# tuple\n",
    "# tuple declearation\n",
    "tup  = (\"hi\", \"Python\", 2)    \n",
    "\n",
    "# type check\n",
    "print(type(tup))\n",
    "\n",
    "# print tuple\n",
    "print(tup)\n",
    "\n",
    "# sclicing\n",
    "print(tup[0:2])\n",
    "\n",
    "# indexing\n",
    "print(tup[0])\n",
    "\n"
   ]
  },
  {
   "cell_type": "code",
   "execution_count": 27,
   "id": "7f839654-1df2-4027-b1a8-d0676fe0a67a",
   "metadata": {},
   "outputs": [
    {
     "data": {
      "text/plain": [
       "{'name': ['Ankit', 'Karuna', 'Sourabh', 'Raj'],\n",
       " 'age': [23, 20, 21, 19],\n",
       " 'city': ['Indore', 'Bhopal', 'Dhar', 'Indore']}"
      ]
     },
     "execution_count": 27,
     "metadata": {},
     "output_type": "execute_result"
    }
   ],
   "source": [
    "# Dictionary\n",
    "dict1 = {\n",
    "    'name' : ['Ankit', 'Karuna', 'Sourabh', 'Raj'],\n",
    "    'age' : [23, 20, 21, 19],\n",
    "    'city' : ['Indore', 'Bhopal', 'Dhar', 'Indore']\n",
    "}\n",
    "dict1"
   ]
  },
  {
   "cell_type": "code",
   "execution_count": 28,
   "id": "a8c39281-6106-4df5-a6c6-5d9bd326ba11",
   "metadata": {},
   "outputs": [
    {
     "data": {
      "text/plain": [
       "{'name': ['Ankit', 'Karuna', 'Sourabh', 'Raj'],\n",
       " 'age': [23, 20, 21, 19],\n",
       " 'city': ['Indore', 'Bhopal', 'Dhar', 'Indore'],\n",
       " 'Salary': [25000, 20000, 30000, 26000]}"
      ]
     },
     "execution_count": 28,
     "metadata": {},
     "output_type": "execute_result"
    }
   ],
   "source": [
    "# add new key\n",
    "dict1['Salary'] = [25000, 20000, 30000, 26000]\n",
    "dict1"
   ]
  },
  {
   "cell_type": "code",
   "execution_count": 31,
   "id": "3d390e76-81d8-451f-a530-286cff7d0568",
   "metadata": {},
   "outputs": [
    {
     "data": {
      "text/plain": [
       "{'name': ['Ankit', 'Karuna', 'Sourabh', 'Raj'],\n",
       " 'age': [23, 20, 21, 19],\n",
       " 'city': ['Indore', 'Bhopal', 'Dhar', 'Indore'],\n",
       " 'Salary': [25000]}"
      ]
     },
     "execution_count": 31,
     "metadata": {},
     "output_type": "execute_result"
    }
   ],
   "source": [
    "# update dictionary\n",
    "dict1['Salary'] = [25000]\n",
    "dict1"
   ]
  },
  {
   "cell_type": "code",
   "execution_count": 33,
   "id": "8a97aed0-256f-44ae-b8ed-40669a351b57",
   "metadata": {},
   "outputs": [
    {
     "data": {
      "text/plain": [
       "{'name': ['Ankit', 'Karuna', 'Sourabh', 'Raj'],\n",
       " 'age': [23, 20, 21, 19],\n",
       " 'city': ['Indore', 'Bhopal', 'Dhar', 'Indore'],\n",
       " 'Salary': [25000, 20000, 30000, 26000]}"
      ]
     },
     "execution_count": 33,
     "metadata": {},
     "output_type": "execute_result"
    }
   ],
   "source": [
    "dict1['Salary'] = [25000, 20000, 30000, 26000]\n",
    "dict1"
   ]
  },
  {
   "cell_type": "code",
   "execution_count": null,
   "id": "c3468437-6394-43ef-a6eb-f74dcb0c7ecc",
   "metadata": {},
   "outputs": [],
   "source": []
  }
 ],
 "metadata": {
  "kernelspec": {
   "display_name": "Python 3 (ipykernel)",
   "language": "python",
   "name": "python3"
  },
  "language_info": {
   "codemirror_mode": {
    "name": "ipython",
    "version": 3
   },
   "file_extension": ".py",
   "mimetype": "text/x-python",
   "name": "python",
   "nbconvert_exporter": "python",
   "pygments_lexer": "ipython3",
   "version": "3.8.10"
  }
 },
 "nbformat": 4,
 "nbformat_minor": 5
}
